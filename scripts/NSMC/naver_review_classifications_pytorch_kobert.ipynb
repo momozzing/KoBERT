{
 "cells": [
  {
   "cell_type": "code",
   "execution_count": 5,
   "metadata": {},
   "outputs": [
    {
     "output_type": "stream",
     "name": "stdout",
     "text": [
      "Requirement already satisfied: mxnet in /home/nlplab/anaconda3/envs/momoKoBERT/lib/python3.6/site-packages (1.8.0.post0)\n",
      "Requirement already satisfied: numpy<2.0.0,>1.16.0 in /home/nlplab/anaconda3/envs/momoKoBERT/lib/python3.6/site-packages (from mxnet) (1.19.5)\n",
      "Requirement already satisfied: requests<3,>=2.20.0 in /home/nlplab/anaconda3/envs/momoKoBERT/lib/python3.6/site-packages (from mxnet) (2.25.1)\n",
      "Requirement already satisfied: graphviz<0.9.0,>=0.8.1 in /home/nlplab/anaconda3/envs/momoKoBERT/lib/python3.6/site-packages (from mxnet) (0.8.4)\n",
      "Requirement already satisfied: certifi>=2017.4.17 in /home/nlplab/anaconda3/envs/momoKoBERT/lib/python3.6/site-packages (from requests<3,>=2.20.0->mxnet) (2021.5.30)\n",
      "Requirement already satisfied: chardet<5,>=3.0.2 in /home/nlplab/anaconda3/envs/momoKoBERT/lib/python3.6/site-packages (from requests<3,>=2.20.0->mxnet) (4.0.0)\n",
      "Requirement already satisfied: idna<3,>=2.5 in /home/nlplab/anaconda3/envs/momoKoBERT/lib/python3.6/site-packages (from requests<3,>=2.20.0->mxnet) (2.10)\n",
      "Requirement already satisfied: urllib3<1.27,>=1.21.1 in /home/nlplab/anaconda3/envs/momoKoBERT/lib/python3.6/site-packages (from requests<3,>=2.20.0->mxnet) (1.26.5)\n",
      "Requirement already satisfied: gluonnlp in /home/nlplab/anaconda3/envs/momoKoBERT/lib/python3.6/site-packages (0.10.0)\n",
      "Collecting pandas\n",
      "  Downloading pandas-1.1.5-cp36-cp36m-manylinux1_x86_64.whl (9.5 MB)\n",
      "\u001b[K     |████████████████████████████████| 9.5 MB 10.8 MB/s \n",
      "\u001b[?25hRequirement already satisfied: tqdm in /home/nlplab/anaconda3/envs/momoKoBERT/lib/python3.6/site-packages (4.61.0)\n",
      "Requirement already satisfied: cython in /home/nlplab/anaconda3/envs/momoKoBERT/lib/python3.6/site-packages (from gluonnlp) (0.29.23)\n",
      "Requirement already satisfied: packaging in /home/nlplab/anaconda3/envs/momoKoBERT/lib/python3.6/site-packages (from gluonnlp) (20.9)\n",
      "Requirement already satisfied: numpy>=1.16.0 in /home/nlplab/anaconda3/envs/momoKoBERT/lib/python3.6/site-packages (from gluonnlp) (1.19.5)\n",
      "Collecting pytz>=2017.2\n",
      "  Using cached pytz-2021.1-py2.py3-none-any.whl (510 kB)\n",
      "Requirement already satisfied: python-dateutil>=2.7.3 in /home/nlplab/anaconda3/envs/momoKoBERT/lib/python3.6/site-packages (from pandas) (2.8.1)\n",
      "Requirement already satisfied: six>=1.5 in /home/nlplab/anaconda3/envs/momoKoBERT/lib/python3.6/site-packages (from python-dateutil>=2.7.3->pandas) (1.16.0)\n",
      "Requirement already satisfied: pyparsing>=2.0.2 in /home/nlplab/anaconda3/envs/momoKoBERT/lib/python3.6/site-packages (from packaging->gluonnlp) (2.4.7)\n",
      "Installing collected packages: pytz, pandas\n",
      "Successfully installed pandas-1.1.5 pytz-2021.1\n",
      "Requirement already satisfied: sentencepiece in /home/nlplab/anaconda3/envs/momoKoBERT/lib/python3.6/site-packages (0.1.91)\n",
      "Requirement already satisfied: transformers in /home/nlplab/anaconda3/envs/momoKoBERT/lib/python3.6/site-packages (3.5.1)\n",
      "Requirement already satisfied: requests in /home/nlplab/anaconda3/envs/momoKoBERT/lib/python3.6/site-packages (from transformers) (2.25.1)\n",
      "Requirement already satisfied: dataclasses in /home/nlplab/anaconda3/envs/momoKoBERT/lib/python3.6/site-packages (from transformers) (0.8)\n",
      "Requirement already satisfied: packaging in /home/nlplab/anaconda3/envs/momoKoBERT/lib/python3.6/site-packages (from transformers) (20.9)\n",
      "Requirement already satisfied: sentencepiece==0.1.91 in /home/nlplab/anaconda3/envs/momoKoBERT/lib/python3.6/site-packages (from transformers) (0.1.91)\n",
      "Requirement already satisfied: numpy in /home/nlplab/anaconda3/envs/momoKoBERT/lib/python3.6/site-packages (from transformers) (1.19.5)\n",
      "Requirement already satisfied: regex!=2019.12.17 in /home/nlplab/anaconda3/envs/momoKoBERT/lib/python3.6/site-packages (from transformers) (2021.4.4)\n",
      "Requirement already satisfied: protobuf in /home/nlplab/anaconda3/envs/momoKoBERT/lib/python3.6/site-packages (from transformers) (3.17.2)\n",
      "Requirement already satisfied: tqdm>=4.27 in /home/nlplab/anaconda3/envs/momoKoBERT/lib/python3.6/site-packages (from transformers) (4.61.0)\n",
      "Requirement already satisfied: filelock in /home/nlplab/anaconda3/envs/momoKoBERT/lib/python3.6/site-packages (from transformers) (3.0.12)\n",
      "Requirement already satisfied: tokenizers==0.9.3 in /home/nlplab/anaconda3/envs/momoKoBERT/lib/python3.6/site-packages (from transformers) (0.9.3)\n",
      "Requirement already satisfied: sacremoses in /home/nlplab/anaconda3/envs/momoKoBERT/lib/python3.6/site-packages (from transformers) (0.0.45)\n",
      "Requirement already satisfied: pyparsing>=2.0.2 in /home/nlplab/anaconda3/envs/momoKoBERT/lib/python3.6/site-packages (from packaging->transformers) (2.4.7)\n",
      "Requirement already satisfied: six>=1.9 in /home/nlplab/anaconda3/envs/momoKoBERT/lib/python3.6/site-packages (from protobuf->transformers) (1.16.0)\n",
      "Requirement already satisfied: certifi>=2017.4.17 in /home/nlplab/anaconda3/envs/momoKoBERT/lib/python3.6/site-packages (from requests->transformers) (2021.5.30)\n",
      "Requirement already satisfied: chardet<5,>=3.0.2 in /home/nlplab/anaconda3/envs/momoKoBERT/lib/python3.6/site-packages (from requests->transformers) (4.0.0)\n",
      "Requirement already satisfied: idna<3,>=2.5 in /home/nlplab/anaconda3/envs/momoKoBERT/lib/python3.6/site-packages (from requests->transformers) (2.10)\n",
      "Requirement already satisfied: urllib3<1.27,>=1.21.1 in /home/nlplab/anaconda3/envs/momoKoBERT/lib/python3.6/site-packages (from requests->transformers) (1.26.5)\n",
      "Requirement already satisfied: joblib in /home/nlplab/anaconda3/envs/momoKoBERT/lib/python3.6/site-packages (from sacremoses->transformers) (1.0.1)\n",
      "Requirement already satisfied: click in /home/nlplab/anaconda3/envs/momoKoBERT/lib/python3.6/site-packages (from sacremoses->transformers) (8.0.1)\n",
      "Requirement already satisfied: importlib-metadata in /home/nlplab/anaconda3/envs/momoKoBERT/lib/python3.6/site-packages (from click->sacremoses->transformers) (4.5.0)\n",
      "Requirement already satisfied: zipp>=0.5 in /home/nlplab/anaconda3/envs/momoKoBERT/lib/python3.6/site-packages (from importlib-metadata->click->sacremoses->transformers) (3.4.1)\n",
      "Requirement already satisfied: typing-extensions>=3.6.4 in /home/nlplab/anaconda3/envs/momoKoBERT/lib/python3.6/site-packages (from importlib-metadata->click->sacremoses->transformers) (3.10.0.0)\n",
      "Requirement already satisfied: torch in /home/nlplab/anaconda3/envs/momoKoBERT/lib/python3.6/site-packages (1.8.1)\n",
      "Requirement already satisfied: numpy in /home/nlplab/anaconda3/envs/momoKoBERT/lib/python3.6/site-packages (from torch) (1.19.5)\n",
      "Requirement already satisfied: typing-extensions in /home/nlplab/anaconda3/envs/momoKoBERT/lib/python3.6/site-packages (from torch) (3.10.0.0)\n",
      "Requirement already satisfied: dataclasses in /home/nlplab/anaconda3/envs/momoKoBERT/lib/python3.6/site-packages (from torch) (0.8)\n"
     ]
    }
   ],
   "source": [
    "!pip install mxnet\n",
    "!pip install gluonnlp pandas tqdm\n",
    "!pip install sentencepiece\n",
    "!pip install transformers\n",
    "!pip install torch"
   ]
  },
  {
   "cell_type": "code",
   "execution_count": 6,
   "metadata": {},
   "outputs": [
    {
     "output_type": "stream",
     "name": "stdout",
     "text": [
      "Collecting git+https://****@github.com/SKTBrain/KoBERT.git@master\n",
      "  Cloning https://****@github.com/SKTBrain/KoBERT.git (to revision master) to /tmp/pip-req-build-5h8gly53\n",
      "  Running command git clone -q 'https://****@github.com/SKTBrain/KoBERT.git' /tmp/pip-req-build-5h8gly53\n",
      "Building wheels for collected packages: kobert\n",
      "  Building wheel for kobert (setup.py) ... \u001b[?25ldone\n",
      "\u001b[?25h  Created wheel for kobert: filename=kobert-0.1.2-py3-none-any.whl size=12704 sha256=e94e8dfe744cfbe5986f2ca82b348f592504b6e109d8d117bbb100336e2e1b93\n",
      "  Stored in directory: /tmp/pip-ephem-wheel-cache-v46ff5uc/wheels/4b/9b/3f/583189713d96fda0f291ca1f228ab0e0c981641dcdaf7c7cdf\n",
      "Successfully built kobert\n",
      "Installing collected packages: kobert\n",
      "Successfully installed kobert-0.1.2\n"
     ]
    }
   ],
   "source": [
    "!pip install git+https://git@github.com/SKTBrain/KoBERT.git@master"
   ]
  },
  {
   "cell_type": "code",
   "execution_count": 2,
   "metadata": {},
   "outputs": [],
   "source": [
    "import torch\n",
    "from torch import nn\n",
    "import torch.nn.functional as F\n",
    "import torch.optim as optim\n",
    "from torch.utils.data import Dataset, DataLoader\n",
    "import gluonnlp as nlp\n",
    "import numpy as np\n",
    "from tqdm import tqdm, tqdm_notebook"
   ]
  },
  {
   "cell_type": "code",
   "execution_count": 3,
   "metadata": {},
   "outputs": [],
   "source": [
    "from kobert.utils import get_tokenizer\n",
    "from kobert.pytorch_kobert import get_pytorch_kobert_model"
   ]
  },
  {
   "cell_type": "code",
   "execution_count": 4,
   "metadata": {},
   "outputs": [],
   "source": [
    "from transformers import AdamW\n",
    "from transformers.optimization import get_cosine_schedule_with_warmup"
   ]
  },
  {
   "cell_type": "code",
   "execution_count": 5,
   "metadata": {},
   "outputs": [],
   "source": [
    "##GPU 사용 시\n",
    "device = torch.device(\"cuda:0\")"
   ]
  },
  {
   "cell_type": "code",
   "execution_count": 6,
   "metadata": {},
   "outputs": [
    {
     "output_type": "stream",
     "name": "stdout",
     "text": [
      "using cached model\n",
      "using cached model\n"
     ]
    }
   ],
   "source": [
    "bertmodel, vocab = get_pytorch_kobert_model()"
   ]
  },
  {
   "cell_type": "code",
   "execution_count": 7,
   "metadata": {},
   "outputs": [
    {
     "output_type": "stream",
     "name": "stdout",
     "text": [
      "--2021-06-06 23:40:18--  https://www.dropbox.com/s/374ftkec978br3d/ratings_train.txt?dl=1\n",
      "Resolving www.dropbox.com (www.dropbox.com)... 162.125.80.18, 2620:100:6030:18::a27d:5012\n",
      "Connecting to www.dropbox.com (www.dropbox.com)|162.125.80.18|:443... connected.\n",
      "HTTP request sent, awaiting response... 301 Moved Permanently\n",
      "Location: /s/dl/374ftkec978br3d/ratings_train.txt [following]\n",
      "--2021-06-06 23:40:19--  https://www.dropbox.com/s/dl/374ftkec978br3d/ratings_train.txt\n",
      "Reusing existing connection to www.dropbox.com:443.\n",
      "HTTP request sent, awaiting response... 302 Found\n",
      "Location: https://uc40fce71668689775730122fbc6.dl.dropboxusercontent.com/cd/0/get/BP7zDwj7Zvk97GMxj9TUoE93xzBq7RW9AovaQIw6SB-vmkK8gFAC_-B3-FlaXZWDmN_DedW_lmqavURtGFQ9NVHSF9gTCDos6D9ngw55Oc-VxwuIdfCjbZuEq2eItPD5ltQ38lLf8T1nhpTkIng4sptf/file?dl=1# [following]\n",
      "--2021-06-06 23:40:19--  https://uc40fce71668689775730122fbc6.dl.dropboxusercontent.com/cd/0/get/BP7zDwj7Zvk97GMxj9TUoE93xzBq7RW9AovaQIw6SB-vmkK8gFAC_-B3-FlaXZWDmN_DedW_lmqavURtGFQ9NVHSF9gTCDos6D9ngw55Oc-VxwuIdfCjbZuEq2eItPD5ltQ38lLf8T1nhpTkIng4sptf/file?dl=1\n",
      "Resolving uc40fce71668689775730122fbc6.dl.dropboxusercontent.com (uc40fce71668689775730122fbc6.dl.dropboxusercontent.com)... 162.125.80.15, 2620:100:6030:15::a27d:500f\n",
      "Connecting to uc40fce71668689775730122fbc6.dl.dropboxusercontent.com (uc40fce71668689775730122fbc6.dl.dropboxusercontent.com)|162.125.80.15|:443... connected.\n",
      "HTTP request sent, awaiting response... 200 OK\n",
      "Length: 14628807 (14M) [application/binary]\n",
      "Saving to: ‘ratings_train.txt?dl=1’\n",
      "\n",
      "ratings_train.txt?d 100%[===================>]  13.95M  9.20MB/s    in 1.5s    \n",
      "\n",
      "2021-06-06 23:40:21 (9.20 MB/s) - ‘ratings_train.txt?dl=1’ saved [14628807/14628807]\n",
      "\n",
      "--2021-06-06 23:40:22--  https://www.dropbox.com/s/977gbwh542gdy94/ratings_test.txt?dl=1\n",
      "Resolving www.dropbox.com (www.dropbox.com)... 162.125.80.18, 2620:100:6030:18::a27d:5012\n",
      "Connecting to www.dropbox.com (www.dropbox.com)|162.125.80.18|:443... connected.\n",
      "HTTP request sent, awaiting response... 301 Moved Permanently\n",
      "Location: /s/dl/977gbwh542gdy94/ratings_test.txt [following]\n",
      "--2021-06-06 23:40:22--  https://www.dropbox.com/s/dl/977gbwh542gdy94/ratings_test.txt\n",
      "Reusing existing connection to www.dropbox.com:443.\n",
      "HTTP request sent, awaiting response... 302 Found\n",
      "Location: https://uc7147cb2b2a0cf68c791b5e543a.dl.dropboxusercontent.com/cd/0/get/BP552LSSBrj1kLp-VnxNqeiPPaVtJOvPsPFBzzxDU_Tk5OydzzKCc3pLB4KItog_Ls-yIvIT-Au4pN_r7Ph8ZF0EiKWM7iTFQNRyiwANLGpi8LTmWGT3DDiU348SyvULLrPPreiwLlmu9nOt9k0MfHFh/file?dl=1# [following]\n",
      "--2021-06-06 23:40:23--  https://uc7147cb2b2a0cf68c791b5e543a.dl.dropboxusercontent.com/cd/0/get/BP552LSSBrj1kLp-VnxNqeiPPaVtJOvPsPFBzzxDU_Tk5OydzzKCc3pLB4KItog_Ls-yIvIT-Au4pN_r7Ph8ZF0EiKWM7iTFQNRyiwANLGpi8LTmWGT3DDiU348SyvULLrPPreiwLlmu9nOt9k0MfHFh/file?dl=1\n",
      "Resolving uc7147cb2b2a0cf68c791b5e543a.dl.dropboxusercontent.com (uc7147cb2b2a0cf68c791b5e543a.dl.dropboxusercontent.com)... 162.125.80.15, 2620:100:6030:15::a27d:500f\n",
      "Connecting to uc7147cb2b2a0cf68c791b5e543a.dl.dropboxusercontent.com (uc7147cb2b2a0cf68c791b5e543a.dl.dropboxusercontent.com)|162.125.80.15|:443... connected.\n",
      "HTTP request sent, awaiting response... 200 OK\n",
      "Length: 4893335 (4.7M) [application/binary]\n",
      "Saving to: ‘ratings_test.txt?dl=1’\n",
      "\n",
      "ratings_test.txt?dl 100%[===================>]   4.67M  5.91MB/s    in 0.8s    \n",
      "\n",
      "2021-06-06 23:40:24 (5.91 MB/s) - ‘ratings_test.txt?dl=1’ saved [4893335/4893335]\n",
      "\n"
     ]
    }
   ],
   "source": [
    "!wget https://www.dropbox.com/s/374ftkec978br3d/ratings_train.txt?dl=1\n",
    "!wget https://www.dropbox.com/s/977gbwh542gdy94/ratings_test.txt?dl=1"
   ]
  },
  {
   "cell_type": "code",
   "execution_count": 8,
   "metadata": {},
   "outputs": [],
   "source": [
    "dataset_train = nlp.data.TSVDataset(\"ratings_train.txt?dl=1\", field_indices=[1,2], num_discard_samples=1)\n",
    "dataset_test = nlp.data.TSVDataset(\"ratings_test.txt?dl=1\", field_indices=[1,2], num_discard_samples=1)"
   ]
  },
  {
   "cell_type": "code",
   "execution_count": 9,
   "metadata": {},
   "outputs": [
    {
     "output_type": "stream",
     "name": "stdout",
     "text": [
      "using cached model\n"
     ]
    }
   ],
   "source": [
    "tokenizer = get_tokenizer()\n",
    "tok = nlp.data.BERTSPTokenizer(tokenizer, vocab, lower=False)"
   ]
  },
  {
   "cell_type": "code",
   "execution_count": 10,
   "metadata": {},
   "outputs": [],
   "source": [
    "class BERTDataset(Dataset):\n",
    "    def __init__(self, dataset, sent_idx, label_idx, bert_tokenizer, max_len,\n",
    "                 pad, pair):\n",
    "        transform = nlp.data.BERTSentenceTransform(\n",
    "            bert_tokenizer, max_seq_length=max_len, pad=pad, pair=pair)\n",
    "\n",
    "        self.sentences = [transform([i[sent_idx]]) for i in dataset]\n",
    "        self.labels = [np.int32(i[label_idx]) for i in dataset]\n",
    "\n",
    "    def __getitem__(self, i):\n",
    "        return (self.sentences[i] + (self.labels[i], ))\n",
    "\n",
    "    def __len__(self):\n",
    "        return (len(self.labels))\n"
   ]
  },
  {
   "cell_type": "code",
   "execution_count": 11,
   "metadata": {},
   "outputs": [],
   "source": [
    "## Setting parameters\n",
    "max_len = 64\n",
    "batch_size = 64\n",
    "warmup_ratio = 0.1\n",
    "num_epochs = 5\n",
    "max_grad_norm = 1\n",
    "log_interval = 200\n",
    "learning_rate =  5e-5"
   ]
  },
  {
   "cell_type": "code",
   "execution_count": 12,
   "metadata": {},
   "outputs": [],
   "source": [
    "data_train = BERTDataset(dataset_train, 0, 1, tok, max_len, True, False)\n",
    "data_test = BERTDataset(dataset_test, 0, 1, tok, max_len, True, False)"
   ]
  },
  {
   "cell_type": "code",
   "execution_count": 13,
   "metadata": {},
   "outputs": [],
   "source": [
    "train_dataloader = torch.utils.data.DataLoader(data_train, batch_size=batch_size, num_workers=5)\n",
    "test_dataloader = torch.utils.data.DataLoader(data_test, batch_size=batch_size, num_workers=5)"
   ]
  },
  {
   "cell_type": "code",
   "execution_count": 14,
   "metadata": {},
   "outputs": [],
   "source": [
    "class BERTClassifier(nn.Module):\n",
    "    def __init__(self,\n",
    "                 bert,\n",
    "                 hidden_size = 768,\n",
    "                 num_classes=2,\n",
    "                 dr_rate=None,\n",
    "                 params=None):\n",
    "        super(BERTClassifier, self).__init__()\n",
    "        self.bert = bert\n",
    "        self.dr_rate = dr_rate\n",
    "                 \n",
    "        self.classifier = nn.Linear(hidden_size , num_classes)\n",
    "        if dr_rate:\n",
    "            self.dropout = nn.Dropout(p=dr_rate)\n",
    "    \n",
    "    def gen_attention_mask(self, token_ids, valid_length):\n",
    "        attention_mask = torch.zeros_like(token_ids)\n",
    "        for i, v in enumerate(valid_length):\n",
    "            attention_mask[i][:v] = 1\n",
    "        return attention_mask.float()\n",
    "\n",
    "    def forward(self, token_ids, valid_length, segment_ids):\n",
    "        attention_mask = self.gen_attention_mask(token_ids, valid_length)\n",
    "        \n",
    "        _, pooler = self.bert(input_ids = token_ids, token_type_ids = segment_ids.long(), attention_mask = attention_mask.float().to(token_ids.device))\n",
    "        if self.dr_rate:\n",
    "            out = self.dropout(pooler)\n",
    "        return self.classifier(out)"
   ]
  },
  {
   "cell_type": "code",
   "execution_count": null,
   "metadata": {},
   "outputs": [],
   "source": [
    "model = BERTClassifier(bertmodel,  dr_rate=0.5).to(device)"
   ]
  },
  {
   "cell_type": "code",
   "execution_count": null,
   "metadata": {},
   "outputs": [],
   "source": [
    "# Prepare optimizer and schedule (linear warmup and decay)\n",
    "no_decay = ['bias', 'LayerNorm.weight']\n",
    "optimizer_grouped_parameters = [\n",
    "    {'params': [p for n, p in model.named_parameters() if not any(nd in n for nd in no_decay)], 'weight_decay': 0.01},\n",
    "    {'params': [p for n, p in model.named_parameters() if any(nd in n for nd in no_decay)], 'weight_decay': 0.0}\n",
    "]"
   ]
  },
  {
   "cell_type": "code",
   "execution_count": null,
   "metadata": {},
   "outputs": [],
   "source": [
    "optimizer = AdamW(optimizer_grouped_parameters, lr=learning_rate)\n",
    "loss_fn = nn.CrossEntropyLoss()"
   ]
  },
  {
   "cell_type": "code",
   "execution_count": null,
   "metadata": {},
   "outputs": [],
   "source": [
    "t_total = len(train_dataloader) * num_epochs\n",
    "warmup_step = int(t_total * warmup_ratio)"
   ]
  },
  {
   "cell_type": "code",
   "execution_count": null,
   "metadata": {},
   "outputs": [],
   "source": [
    "scheduler = get_cosine_schedule_with_warmup(optimizer, num_warmup_steps=warmup_step, num_training_steps=t_total)"
   ]
  },
  {
   "cell_type": "code",
   "execution_count": null,
   "metadata": {},
   "outputs": [],
   "source": [
    "def calc_accuracy(X,Y):\n",
    "    max_vals, max_indices = torch.max(X, 1)\n",
    "    train_acc = (max_indices == Y).sum().data.cpu().numpy()/max_indices.size()[0]\n",
    "    return train_acc"
   ]
  },
  {
   "cell_type": "code",
   "execution_count": null,
   "metadata": {},
   "outputs": [],
   "source": [
    "for e in range(num_epochs):\n",
    "    train_acc = 0.0\n",
    "    test_acc = 0.0\n",
    "    model.train()\n",
    "    for batch_id, (token_ids, valid_length, segment_ids, label) in enumerate(tqdm_notebook(train_dataloader)):\n",
    "        optimizer.zero_grad()\n",
    "        token_ids = token_ids.long().to(device)\n",
    "        segment_ids = segment_ids.long().to(device)\n",
    "        valid_length= valid_length\n",
    "        label = label.long().to(device)\n",
    "        out = model(token_ids, valid_length, segment_ids)\n",
    "        loss = loss_fn(out, label)\n",
    "        loss.backward()\n",
    "        torch.nn.utils.clip_grad_norm_(model.parameters(), max_grad_norm)\n",
    "        optimizer.step()\n",
    "        scheduler.step()  # Update learning rate schedule\n",
    "        train_acc += calc_accuracy(out, label)\n",
    "        if batch_id % log_interval == 0:\n",
    "            print(\"epoch {} batch id {} loss {} train acc {}\".format(e+1, batch_id+1, loss.data.cpu().numpy(), train_acc / (batch_id+1)))\n",
    "    print(\"epoch {} train acc {}\".format(e+1, train_acc / (batch_id+1)))\n",
    "    model.eval()\n",
    "    for batch_id, (token_ids, valid_length, segment_ids, label) in enumerate(tqdm_notebook(test_dataloader)):\n",
    "        token_ids = token_ids.long().to(device)\n",
    "        segment_ids = segment_ids.long().to(device)\n",
    "        valid_length= valid_length\n",
    "        label = label.long().to(device)\n",
    "        out = model(token_ids, valid_length, segment_ids)\n",
    "        test_acc += calc_accuracy(out, label)\n",
    "    print(\"epoch {} test acc {}\".format(e+1, test_acc / (batch_id+1)))"
   ]
  },
  {
   "source": [
    "#todo\n",
    "\n",
    "다른 데이터셋들도 돌려보고 버트 이해하기"
   ],
   "cell_type": "markdown",
   "metadata": {}
  },
  {
   "cell_type": "code",
   "execution_count": null,
   "metadata": {},
   "outputs": [],
   "source": []
  }
 ],
 "metadata": {
  "kernelspec": {
   "name": "python3613jvsc74a57bd0fdec29f9b47567deea31828944d53754aeb926d3c1b9335ea3443d6e8a8e588c",
   "display_name": "Python 3.6.13 64-bit ('momoKoBERT': conda)"
  },
  "language_info": {
   "codemirror_mode": {
    "name": "ipython",
    "version": 3
   },
   "file_extension": ".py",
   "mimetype": "text/x-python",
   "name": "python",
   "nbconvert_exporter": "python",
   "pygments_lexer": "ipython3",
   "version": "3.6.13"
  },
  "metadata": {
   "interpreter": {
    "hash": "fdec29f9b47567deea31828944d53754aeb926d3c1b9335ea3443d6e8a8e588c"
   }
  }
 },
 "nbformat": 4,
 "nbformat_minor": 4
}